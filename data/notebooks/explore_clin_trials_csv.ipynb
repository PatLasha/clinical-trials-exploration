{
 "cells": [
  {
   "cell_type": "markdown",
   "id": "1bebde83",
   "metadata": {},
   "source": [
    "# Exploratory Analysis — Clinical Trials CSV\n",
    "\n",
    "This notebook performs an initial exploration of `../raw/clin_trials.csv` to understand the data structure, missing values, and identify potential categorical columns.\n",
    "```"
   ]
  },
  {
   "cell_type": "code",
   "execution_count": null,
   "id": "7a3d98eb",
   "metadata": {},
   "outputs": [],
   "source": [
    "import pandas as pd\n",
    "\n",
    "df = pd.read_csv('../raw/clin_trials.csv')"
   ]
  },
  {
   "cell_type": "markdown",
   "id": "7d5e8cbf",
   "metadata": {},
   "source": [
    "# Basic Exploration\n",
    "\n",
    "Check the shape and column data types to understand the dataset size and structure.\n",
    "```"
   ]
  },
  {
   "cell_type": "code",
   "execution_count": null,
   "id": "3425c330",
   "metadata": {},
   "outputs": [],
   "source": [
    "print(\"_\" * 60)\n",
    "print(f\"Shape: {df.shape}\")\n",
    "print(f\"\\nData types:\")\n",
    "print(df.dtypes)"
   ]
  },
  {
   "cell_type": "markdown",
   "id": "7a2a5ca6",
   "metadata": {},
   "source": [
    "## Missing Values Analysis\n",
    "\n",
    "Compute missing value counts and percentages for each column. Only columns with missing values are displayed.\n",
    "```"
   ]
  },
  {
   "cell_type": "code",
   "execution_count": null,
   "id": "20efa61d",
   "metadata": {},
   "outputs": [],
   "source": [
    "print(\"_\" * 60)\n",
    "print(\"Missing values\")\n",
    "missing = df.isnull().sum()\n",
    "missing_percent = (missing / len(df)) * 100\n",
    "missing_df = pd.DataFrame({\n",
    "    'missing_count': missing, \n",
    "    'missing_percent': missing_percent\n",
    "})\n",
    "print(missing_df[missing_df['missing_count'] > 0].sort_values(by='missing_percent', ascending=False))"
   ]
  },
  {
   "cell_type": "markdown",
   "id": "a123473a",
   "metadata": {},
   "source": [
    "## Sample Data Preview\n",
    "\n",
    "Display the first few rows to inspect actual data values.\n",
    "```"
   ]
  },
  {
   "cell_type": "code",
   "execution_count": null,
   "id": "108cdea5",
   "metadata": {},
   "outputs": [],
   "source": [
    "print(\"_\" * 60)\n",
    "print(\"Sample data\")\n",
    "display(df.head(100))"
   ]
  },
  {
   "cell_type": "markdown",
   "id": "1cf866d8",
   "metadata": {},
   "source": [
    "## Key Insights: Categorical Variable Detection\n",
    "\n",
    "Identify likely categorical columns using a heuristic approach:\n",
    "- **Dynamic Threshold**: Uses the maximum of an absolute cutoff (20) and a percentage-based threshold (1% of total rows)\n",
    "- This adaptive approach works better for datasets of varying sizes\n",
    "- Columns with unique values below the threshold are likely categorical and candidates for separate lookup tables\n",
    "\n",
    "**Note**: This helped identify categorical vs continuous variables during initial exploration.\n",
    "```"
   ]
  },
  {
   "cell_type": "code",
   "execution_count": null,
   "id": "d755612a",
   "metadata": {},
   "outputs": [],
   "source": [
    "print(\"_\" * 60)\n",
    "print(\"Key Insights:\")\n",
    "\n",
    "absolute_cutoff = 20   # FIXME: I don't like this being hardcoded, but works for now\n",
    "percent_cutoff = 0.01  # 1% of rows, this is probably too high for large datasets\n",
    "n_rows = df.shape[0]\n",
    "dynamic_cutoff = max(absolute_cutoff, int(n_rows * percent_cutoff))\n",
    "\n",
    "for col in df.columns:\n",
    "    unique_vals = df[col].nunique(dropna=True)\n",
    "    if unique_vals <= dynamic_cutoff:\n",
    "        uniques_sample = df[col].dropna().unique()[:50]\n",
    "        print(f\"Column: {col}\")\n",
    "        print(f\"  - Number of uniques: {unique_vals}\")\n",
    "        print(f\"  - Sample uniques: {list(uniques_sample)}\\n\")\n"
   ]
  }
 ],
 "metadata": {
  "kernelspec": {
   "display_name": "venv",
   "language": "python",
   "name": "python3"
  },
  "language_info": {
   "codemirror_mode": {
    "name": "ipython",
    "version": 3
   },
   "file_extension": ".py",
   "mimetype": "text/x-python",
   "name": "python",
   "nbconvert_exporter": "python",
   "pygments_lexer": "ipython3",
   "version": "3.12.3"
  }
 },
 "nbformat": 4,
 "nbformat_minor": 5
}
